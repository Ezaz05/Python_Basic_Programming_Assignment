{
 "cells": [
  {
   "cell_type": "markdown",
   "metadata": {},
   "source": [
    "### 1. Write a Python Program to Add Two Matrices?"
   ]
  },
  {
   "cell_type": "code",
   "execution_count": 1,
   "metadata": {},
   "outputs": [
    {
     "name": "stdout",
     "output_type": "stream",
     "text": [
      "[6, 8, 10]\n",
      "[12, 14, 16]\n",
      "[18, 2, 4]\n"
     ]
    }
   ],
   "source": [
    "a = [[3,4,5],\n",
    "    [6,7,8],\n",
    "    [9,1,2]]\n",
    "\n",
    "b = [[3,4,5],\n",
    "    [6,7,8],\n",
    "    [9,1,2]]\n",
    "\n",
    "add =[[0,0,0],\n",
    "    [0,0,0],\n",
    "    [0,0,0]]\n",
    "\n",
    "for i in range(len(a)):\n",
    "    for j in range(len(b)):\n",
    "        add[i][j]= a[i][j]+b[i][j]\n",
    "for k in add:\n",
    "    print(k)"
   ]
  },
  {
   "cell_type": "markdown",
   "metadata": {},
   "source": [
    "### 2. Write a Python Program to Multiply Two Matrices?"
   ]
  },
  {
   "cell_type": "code",
   "execution_count": 2,
   "metadata": {},
   "outputs": [
    {
     "name": "stdout",
     "output_type": "stream",
     "text": [
      "[9, 16, 25]\n",
      "[36, 49, 64]\n",
      "[81, 1, 4]\n"
     ]
    }
   ],
   "source": [
    "a = [[3,4,5],\n",
    "    [6,7,8],\n",
    "    [9,1,2]]\n",
    "\n",
    "b = [[3,4,5],\n",
    "    [6,7,8],\n",
    "    [9,1,2]]\n",
    "\n",
    "mul =[[0,0,0],\n",
    "    [0,0,0],\n",
    "    [0,0,0]]\n",
    "\n",
    "for i in range(len(a)):\n",
    "    for j in range(len(b)):\n",
    "        mul[i][j]= a[i][j]*b[i][j]\n",
    "for k in mul:\n",
    "    print(k)"
   ]
  },
  {
   "cell_type": "markdown",
   "metadata": {},
   "source": [
    "### 3. Write a Python Program to Transpose a Matrix?"
   ]
  },
  {
   "cell_type": "code",
   "execution_count": 3,
   "metadata": {},
   "outputs": [
    {
     "name": "stdout",
     "output_type": "stream",
     "text": [
      "Before Transpose the matrix\n",
      "[3, 4, 5]\n",
      "[6, 7, 8]\n",
      "[9, 1, 2]\n",
      "After Transpose the matrix\n",
      "[3, 6, 9]\n",
      "[4, 7, 1]\n",
      "[5, 8, 2]\n"
     ]
    }
   ],
   "source": [
    "a = [[3,4,5],\n",
    "    [6,7,8],\n",
    "    [9,1,2]]\n",
    "print(\"Before Transpose the matrix\")\n",
    "for i in a:\n",
    "    print(i)\n",
    "#Transposing the matrix.\n",
    "\n",
    "trans=[[0,0,0],\n",
    "    [0,0,0],\n",
    "    [0,0,0]]\n",
    "\n",
    "for i in range(len(a)):\n",
    "    for j in range(len(a)):\n",
    "        trans[i][j]=a[j][i]\n",
    "print(\"After Transpose the matrix\")\n",
    "for k in trans:\n",
    "    print(k)"
   ]
  },
  {
   "cell_type": "markdown",
   "metadata": {},
   "source": [
    "### 4. Write a Python Program to Sort Words in Alphabetic Order?"
   ]
  },
  {
   "cell_type": "code",
   "execution_count": 4,
   "metadata": {},
   "outputs": [
    {
     "name": "stdout",
     "output_type": "stream",
     "text": [
      "Enter any word to sort in alphabetic order:Python is a programming Language\n",
      "You have entered: Python is a programming Language\n",
      "Words in Alphabetic Order\n",
      "a is language programming python\n"
     ]
    }
   ],
   "source": [
    "words = input(\"Enter any word to sort in alphabetic order:\")\n",
    "print(\"You have entered:\", words)\n",
    "\n",
    "w =words.split(\" \")\n",
    "print(\"Words in Alphabetic Order\")\n",
    "for i in range(len(w)):\n",
    "    w[i]=w[i].lower()\n",
    "    alp = sorted(w)\n",
    "print(\" \".join(alp))\n"
   ]
  },
  {
   "cell_type": "markdown",
   "metadata": {},
   "source": [
    "### 5. Write a Python Program to Remove Punctuation From a String?"
   ]
  },
  {
   "cell_type": "code",
   "execution_count": null,
   "metadata": {},
   "outputs": [],
   "source": [
    "\n",
    "punct = '''!()-[]{};:'\"\\,<>./?@#$%^&*_~'''\n",
    "string = input(\"Enter the string:\")\n",
    "no_punct=\" \"\n",
    "for i in string:\n",
    "    if i not in punct:\n",
    "        no_punct= no_punct+i\n",
    "print(no_punct)        "
   ]
  }
 ],
 "metadata": {
  "kernelspec": {
   "display_name": "Python 3",
   "language": "python",
   "name": "python3"
  },
  "language_info": {
   "codemirror_mode": {
    "name": "ipython",
    "version": 3
   },
   "file_extension": ".py",
   "mimetype": "text/x-python",
   "name": "python",
   "nbconvert_exporter": "python",
   "pygments_lexer": "ipython3",
   "version": "3.8.3"
  }
 },
 "nbformat": 4,
 "nbformat_minor": 4
}
