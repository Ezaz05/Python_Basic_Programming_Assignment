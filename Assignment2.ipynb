{
 "cells": [
  {
   "cell_type": "markdown",
   "metadata": {},
   "source": [
    "### 1. Write a Python program to convert kilometers to miles?"
   ]
  },
  {
   "cell_type": "code",
   "execution_count": 1,
   "metadata": {},
   "outputs": [
    {
     "name": "stdout",
     "output_type": "stream",
     "text": [
      "Enter the distance in KiloMeter:3.4\n",
      "3.4 Kilometer is equal to 2.1113999999999997 Miles\n"
     ]
    }
   ],
   "source": [
    "KM = float(input(\"Enter the distance in KiloMeter:\"))\n",
    "Miles = KM*0.621\n",
    "print(\"{0} Kilometer is equal to {1} Miles\".format(KM,Miles))"
   ]
  },
  {
   "cell_type": "markdown",
   "metadata": {},
   "source": [
    "### 2. Write a Python program to convert Celsius to Fahrenheit?"
   ]
  },
  {
   "cell_type": "code",
   "execution_count": 2,
   "metadata": {},
   "outputs": [
    {
     "name": "stdout",
     "output_type": "stream",
     "text": [
      "Enter the celcius value:37\n",
      "37.0 celcius is equal to 98.6 fahrenheit\n"
     ]
    }
   ],
   "source": [
    "celcius = float(input(\"Enter the celcius value:\"))\n",
    "fahrenheit = (celcius*9/5)+32\n",
    "print(\"{0} celcius is equal to {1} fahrenheit\".format(celcius,fahrenheit))"
   ]
  },
  {
   "cell_type": "markdown",
   "metadata": {},
   "source": [
    "### 3. Write a Python program to display calendar?"
   ]
  },
  {
   "cell_type": "code",
   "execution_count": 3,
   "metadata": {},
   "outputs": [
    {
     "name": "stdout",
     "output_type": "stream",
     "text": [
      "   December 2021\n",
      "Mo Tu We Th Fr Sa Su\n",
      "       1  2  3  4  5\n",
      " 6  7  8  9 10 11 12\n",
      "13 14 15 16 17 18 19\n",
      "20 21 22 23 24 25 26\n",
      "27 28 29 30 31\n",
      "\n"
     ]
    }
   ],
   "source": [
    "import calendar\n",
    "year = 2021\n",
    "month = 12\n",
    "print(calendar.month(year,month))"
   ]
  },
  {
   "cell_type": "markdown",
   "metadata": {},
   "source": [
    "### 4. Write a Python program to solve quadratic equation?"
   ]
  },
  {
   "cell_type": "code",
   "execution_count": 4,
   "metadata": {},
   "outputs": [
    {
     "name": "stdout",
     "output_type": "stream",
     "text": [
      "Enter the value of a:1\n",
      "Enter the value of b:5\n",
      "Enter the value of c:6\n",
      "Descriminant: 1.0\n",
      "(-2+0j) and (-3+0j) are the solution for the quadratic equations\n"
     ]
    }
   ],
   "source": [
    "import cmath\n",
    "a = float(input(\"Enter the value of a:\"))\n",
    "b = float(input(\"Enter the value of b:\"))\n",
    "c = float(input(\"Enter the value of c:\"))\n",
    "\n",
    "d = b**2-4*a*c\n",
    "print(\"Descriminant:\",d)\n",
    "soln1 = (-b+cmath.sqrt(d))/(2*a)\n",
    "soln2 = (-b-cmath.sqrt(d))/(2*a)\n",
    "print(\"{0} and {1} are the solution for the quadratic equations\".format(soln1,soln2))"
   ]
  },
  {
   "cell_type": "markdown",
   "metadata": {},
   "source": [
    "### 5. Write a Python program to swap two variables without temp variable?"
   ]
  },
  {
   "cell_type": "code",
   "execution_count": 5,
   "metadata": {},
   "outputs": [
    {
     "name": "stdout",
     "output_type": "stream",
     "text": [
      "Enter the first number:7\n",
      "Enter the second number:3\n",
      "***After Swapping the number***\n",
      "First Number:  3.0\n",
      "Second Number:  7.0\n"
     ]
    }
   ],
   "source": [
    "a = float(input(\"Enter the first number:\"))\n",
    "b = float(input(\"Enter the second number:\"))\n",
    "a = a+b\n",
    "b = a-b\n",
    "a = a-b\n",
    "print(\"***After Swapping the number***\")\n",
    "print(\"First Number: \",a)\n",
    "print(\"Second Number: \",b)"
   ]
  }
 ],
 "metadata": {
  "kernelspec": {
   "display_name": "Python 3",
   "language": "python",
   "name": "python3"
  },
  "language_info": {
   "codemirror_mode": {
    "name": "ipython",
    "version": 3
   },
   "file_extension": ".py",
   "mimetype": "text/x-python",
   "name": "python",
   "nbconvert_exporter": "python",
   "pygments_lexer": "ipython3",
   "version": "3.8.3"
  }
 },
 "nbformat": 4,
 "nbformat_minor": 4
}
