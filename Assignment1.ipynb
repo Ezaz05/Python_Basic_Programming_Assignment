{
 "cells": [
  {
   "cell_type": "markdown",
   "metadata": {},
   "source": [
    "### 1. Write a Python program to print \"Hello Python\"?\n"
   ]
  },
  {
   "cell_type": "code",
   "execution_count": 1,
   "metadata": {},
   "outputs": [
    {
     "data": {
      "text/plain": [
       "'Hello Python'"
      ]
     },
     "execution_count": 1,
     "metadata": {},
     "output_type": "execute_result"
    }
   ],
   "source": [
    "\"Hello Python\""
   ]
  },
  {
   "cell_type": "markdown",
   "metadata": {},
   "source": [
    "### 2. Write a Python program to do arithmetical operations addition and division.?"
   ]
  },
  {
   "cell_type": "code",
   "execution_count": 2,
   "metadata": {},
   "outputs": [
    {
     "name": "stdout",
     "output_type": "stream",
     "text": [
      "Enter the first number:8\n",
      "Enter the first number:6\n",
      "Addition: 14\n",
      "Division: 1.3333333333333333\n"
     ]
    }
   ],
   "source": [
    "a=int(input(\"Enter the first number:\"))\n",
    "b=int(input(\"Enter the first number:\"))\n",
    "add=a+b\n",
    "div=a/b\n",
    "print(\"Addition:\",add)\n",
    "print(\"Division:\",div)"
   ]
  },
  {
   "cell_type": "markdown",
   "metadata": {},
   "source": [
    "### 3. Write a Python program to find the area of a triangle?"
   ]
  },
  {
   "cell_type": "code",
   "execution_count": 3,
   "metadata": {},
   "outputs": [
    {
     "name": "stdout",
     "output_type": "stream",
     "text": [
      "Enter the height:6\n",
      "Enter the base:8\n",
      "Area of the Triangle is: 24.0\n"
     ]
    }
   ],
   "source": [
    "h=int(input(\"Enter the height:\"))\n",
    "b=int(input(\"Enter the base:\"))\n",
    "area=(h*b)/2\n",
    "print(\"Area of the Triangle is:\", area)"
   ]
  },
  {
   "cell_type": "markdown",
   "metadata": {},
   "source": [
    "### 4. Write a Python program to swap two variables?"
   ]
  },
  {
   "cell_type": "code",
   "execution_count": 4,
   "metadata": {},
   "outputs": [
    {
     "name": "stdout",
     "output_type": "stream",
     "text": [
      "Enter First Number:8\n",
      "Enter First Number:6\n",
      "First Number: 8\n",
      "Second Number: 6\n",
      "****After Swaping****\n",
      "First Number: 6\n",
      "Second Number: 8\n"
     ]
    }
   ],
   "source": [
    "a=int(input(\"Enter First Number:\"))\n",
    "b=int(input(\"Enter First Number:\"))\n",
    "print(\"First Number:\",a)\n",
    "print(\"Second Number:\",b)\n",
    "c=a\n",
    "a=b\n",
    "b=c\n",
    "print(\"****After Swaping****\")\n",
    "print(\"First Number:\",a)\n",
    "print(\"Second Number:\",b)\n"
   ]
  },
  {
   "cell_type": "markdown",
   "metadata": {},
   "source": [
    "### 5. Write a Python program to generate a random number?\n"
   ]
  },
  {
   "cell_type": "code",
   "execution_count": 5,
   "metadata": {},
   "outputs": [
    {
     "name": "stdout",
     "output_type": "stream",
     "text": [
      "***NOTE: N represent the last term***\n",
      "Enter the range between 0 to N:6\n",
      "6\n"
     ]
    }
   ],
   "source": [
    "import random\n",
    "print(\"***NOTE: N represent the last term***\")\n",
    "a=int(input(\"Enter the range between 0 to N:\"))\n",
    "print(random.randint(0,a))"
   ]
  }
 ],
 "metadata": {
  "kernelspec": {
   "display_name": "Python 3",
   "language": "python",
   "name": "python3"
  },
  "language_info": {
   "codemirror_mode": {
    "name": "ipython",
    "version": 3
   },
   "file_extension": ".py",
   "mimetype": "text/x-python",
   "name": "python",
   "nbconvert_exporter": "python",
   "pygments_lexer": "ipython3",
   "version": "3.8.3"
  }
 },
 "nbformat": 4,
 "nbformat_minor": 4
}
