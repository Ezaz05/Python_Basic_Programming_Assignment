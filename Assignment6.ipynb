{
 "cells": [
  {
   "cell_type": "markdown",
   "metadata": {},
   "source": [
    "### 1. Write a Python Program to Display Fibonacci Sequence Using Recursion?"
   ]
  },
  {
   "cell_type": "code",
   "execution_count": 1,
   "metadata": {},
   "outputs": [
    {
     "name": "stdout",
     "output_type": "stream",
     "text": [
      "Enter the nth term:7\n",
      "Fibonacci Series\n",
      "0 1 1 2 3 5 8 "
     ]
    }
   ],
   "source": [
    "def Fibonacci_Series(n):\n",
    "    if n<=0:\n",
    "        return n\n",
    "    else:\n",
    "        return abs(Fibonacci_Series(n-1)+Fibonacci_Series(n-2))\n",
    "try:\n",
    "    n = int(input(\"Enter the nth term:\"))\n",
    "    print(\"Fibonacci Series\")\n",
    "    for i in range(n):\n",
    "        print(Fibonacci_Series(i),end=\" \")\n",
    "except Exception as e:\n",
    "    print(e)"
   ]
  },
  {
   "cell_type": "markdown",
   "metadata": {},
   "source": [
    "### 2. Write a Python Program to Find Factorial of Number Using Recursion?"
   ]
  },
  {
   "cell_type": "code",
   "execution_count": 2,
   "metadata": {},
   "outputs": [
    {
     "name": "stdout",
     "output_type": "stream",
     "text": [
      "Enter the number:7\n",
      "Factorial of 7 is 5040\n"
     ]
    }
   ],
   "source": [
    "def recursion_Fact(n):\n",
    "    if n==1:\n",
    "        return n\n",
    "    else:\n",
    "        return n*recursion_Fact(n-1)\n",
    "try:\n",
    "    n = int(input(\"Enter the number:\"))\n",
    "    if n==0:\n",
    "        print(\"Factorial of 0 is 1\")\n",
    "    if n<0:\n",
    "        print(\"Please enter positive number\")\n",
    "    else:\n",
    "        print(\"Factorial of {0} is {1}\".format(n,recursion_Fact(n)))\n",
    "except Exception as e:\n",
    "      print(e)"
   ]
  },
  {
   "cell_type": "markdown",
   "metadata": {},
   "source": [
    "### 3. Write a Python Program to calculate your Body Mass Index?"
   ]
  },
  {
   "cell_type": "code",
   "execution_count": 3,
   "metadata": {},
   "outputs": [
    {
     "name": "stdout",
     "output_type": "stream",
     "text": [
      "Enter the weight in kg:70\n",
      "Enter the height in meters:1.68\n",
      "Body Mass Index is 24.801587301587304\n",
      "Healthy\n"
     ]
    }
   ],
   "source": [
    "def BMI(weight,height):\n",
    "    body_mass_index = weight/(height*height)\n",
    "    return body_mass_index \n",
    "weight = float(input(\"Enter the weight in kg:\"))\n",
    "height = float(input(\"Enter the height in meters:\"))\n",
    "print(\"Body Mass Index is\",BMI(weight,height))\n",
    "\n",
    "bmi = BMI(weight,height)\n",
    "# Conditions to find out BMI category\n",
    "if bmi < 18.5:\n",
    "    print(\"underweight\")\n",
    "elif bmi >= 18.5 and bmi < 24.9:\n",
    "    print(\"Healthy\")\n",
    "elif bmi >= 24.9 and bmi < 30:\n",
    "    print(\"overweight\")\n",
    "else:\n",
    "    print(\"Suffering from Obesity\")"
   ]
  },
  {
   "cell_type": "markdown",
   "metadata": {},
   "source": [
    "### 4. Write a Python Program to calculate the natural logarithm of any number?"
   ]
  },
  {
   "cell_type": "code",
   "execution_count": 4,
   "metadata": {},
   "outputs": [
    {
     "name": "stdout",
     "output_type": "stream",
     "text": [
      "Enter the number to find logarithm value:5\n",
      "Logarithm value of 5 is 1.6094379124341003\n"
     ]
    }
   ],
   "source": [
    "import math\n",
    "n = int(input(\"Enter the number to find logarithm value:\"))\n",
    "print(\"Logarithm value of {0} is {1}\".format(n,math.log(n)))"
   ]
  },
  {
   "cell_type": "markdown",
   "metadata": {},
   "source": [
    "### 5. Write a Python Program for cube sum of first n natural numbers?"
   ]
  },
  {
   "cell_type": "code",
   "execution_count": 5,
   "metadata": {},
   "outputs": [
    {
     "name": "stdout",
     "output_type": "stream",
     "text": [
      "Enter nth term to find the cube sum of n natural numbers:5\n",
      "225\n"
     ]
    }
   ],
   "source": [
    "try:\n",
    "    n = int(input(\"Enter nth term to find the cube sum of n natural numbers:\"))\n",
    "    sum = 0\n",
    "    for i in range(1,n+1):\n",
    "        sum = sum + (i**3)\n",
    "    print(sum)\n",
    "except:\n",
    "    print(\"Please enter correct input\")"
   ]
  }
 ],
 "metadata": {
  "kernelspec": {
   "display_name": "Python 3",
   "language": "python",
   "name": "python3"
  },
  "language_info": {
   "codemirror_mode": {
    "name": "ipython",
    "version": 3
   },
   "file_extension": ".py",
   "mimetype": "text/x-python",
   "name": "python",
   "nbconvert_exporter": "python",
   "pygments_lexer": "ipython3",
   "version": "3.8.3"
  }
 },
 "nbformat": 4,
 "nbformat_minor": 4
}
