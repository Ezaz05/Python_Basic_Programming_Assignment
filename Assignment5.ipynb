{
 "cells": [
  {
   "cell_type": "markdown",
   "metadata": {},
   "source": [
    "### 1. Write a Python Program to Find LCM?"
   ]
  },
  {
   "cell_type": "code",
   "execution_count": 1,
   "metadata": {},
   "outputs": [
    {
     "name": "stdout",
     "output_type": "stream",
     "text": [
      "Enter the 1st number:24\n",
      "Enter the 2nd number:36\n",
      "LCM of 24 and 36 is 72.0:\n"
     ]
    }
   ],
   "source": [
    "a = int(input(\"Enter the 1st number:\"))\n",
    "b = int(input(\"Enter the 2nd number:\"))\n",
    "hcf = 1\n",
    "for i in range(2,a+1):\n",
    "    if(a%i==0 and b%i==0):\n",
    "        hcf=i\n",
    "lcm= a*b/hcf\n",
    "print(\"LCM of {0} and {1} is {2}:\".format(a,b,lcm))"
   ]
  },
  {
   "cell_type": "markdown",
   "metadata": {},
   "source": [
    "### 2. Write a Python Program to Find HCF?"
   ]
  },
  {
   "cell_type": "code",
   "execution_count": 2,
   "metadata": {},
   "outputs": [
    {
     "name": "stdout",
     "output_type": "stream",
     "text": [
      "Enter the 1st number:24\n",
      "Enter the 2nd number:36\n",
      "LCM of 24 and 36 is 12:\n"
     ]
    }
   ],
   "source": [
    "a = int(input(\"Enter the 1st number:\"))\n",
    "b = int(input(\"Enter the 2nd number:\"))\n",
    "hcf = 1\n",
    "for i in range(2,a+1):\n",
    "    if(a%i==0 and b%i==0):\n",
    "        hcf=i\n",
    "print(\"LCM of {0} and {1} is {2}:\".format(a,b,hcf))"
   ]
  },
  {
   "cell_type": "markdown",
   "metadata": {},
   "source": [
    "### 3. Write a Python Program to Convert Decimal to Binary, Octal and Hexadecimal?\n"
   ]
  },
  {
   "cell_type": "code",
   "execution_count": 3,
   "metadata": {},
   "outputs": [
    {
     "name": "stdout",
     "output_type": "stream",
     "text": [
      "Enter the decimal number:50\n",
      "Enter the octal number:344\n",
      "Decimal to Binary: 0b110010\n",
      "Octal to Hexadecimal: 0x32\n"
     ]
    }
   ],
   "source": [
    "decimal =  int(input(\"Enter the decimal number:\"))\n",
    "octal = int(input(\"Enter the octal number:\"))\n",
    "print(\"Decimal to Binary:\",bin(decimal))\n",
    "print(\"Octal to Hexadecimal:\",hex(decimal))"
   ]
  },
  {
   "cell_type": "markdown",
   "metadata": {},
   "source": [
    "### 4. Write a Python Program To Find ASCII value of a character?"
   ]
  },
  {
   "cell_type": "code",
   "execution_count": 4,
   "metadata": {},
   "outputs": [
    {
     "name": "stdout",
     "output_type": "stream",
     "text": [
      "Enter the character:d\n",
      "ASCII value of the character d is 100\n"
     ]
    }
   ],
   "source": [
    "ch = input(\"Enter the character:\")\n",
    "print(\"ASCII value of the character \"+ch+\" is\", ord(ch))"
   ]
  },
  {
   "cell_type": "markdown",
   "metadata": {},
   "source": [
    "### 5. Write a Python Program to Make a Simple Calculator with 4 basic mathematical operations?"
   ]
  },
  {
   "cell_type": "code",
   "execution_count": 5,
   "metadata": {},
   "outputs": [
    {
     "name": "stdout",
     "output_type": "stream",
     "text": [
      "***Calculator***\n",
      "1.Addition\n",
      "2.Substraction\n",
      "3.Multiplication\n",
      "4.Division\n",
      "Enter your choice:3\n",
      "Enter first number:4\n",
      "Enter second number:34\n",
      "Multiplication of 4.0 and 34.0 is 136.0\n"
     ]
    }
   ],
   "source": [
    "print(\"***Calculator***\")\n",
    "print(\"1.Addition\")\n",
    "print(\"2.Substraction\")\n",
    "print(\"3.Multiplication\")\n",
    "print(\"4.Division\")\n",
    "choice = int(input(\"Enter your choice:\"))\n",
    "if choice == 1:\n",
    "    a = float(input(\"Enter first number:\"))\n",
    "    b = float(input(\"Enter second number:\"))\n",
    "    add = a+b\n",
    "    print(\"Addition of\",a,\"and\" ,b,\"is\",add)\n",
    "elif choice == 2:\n",
    "    a = float(input(\"Enter first number:\"))\n",
    "    b = float(input(\"Enter second number:\"))\n",
    "    sub = a-b\n",
    "    print(\"Substraction of\",a, \"and\" ,b,\"is\",sub)\n",
    "elif choice == 3:\n",
    "    a = float(input(\"Enter first number:\"))\n",
    "    b = float(input(\"Enter second number:\"))\n",
    "    mul = a*b\n",
    "    print(\"Multiplication of\",a, \"and\" ,b,\"is\",mul)\n",
    "elif choice == 4:\n",
    "    a = float(input(\"Enter first number:\"))\n",
    "    b = float(input(\"Enter second number:\"))\n",
    "    div = a/b\n",
    "    print(\"Division of\",a,\"and\",b,\"is\",div)\n",
    "else:\n",
    "    print(\"Wrong Choice\")\n"
   ]
  }
 ],
 "metadata": {
  "kernelspec": {
   "display_name": "Python 3",
   "language": "python",
   "name": "python3"
  },
  "language_info": {
   "codemirror_mode": {
    "name": "ipython",
    "version": 3
   },
   "file_extension": ".py",
   "mimetype": "text/x-python",
   "name": "python",
   "nbconvert_exporter": "python",
   "pygments_lexer": "ipython3",
   "version": "3.8.3"
  }
 },
 "nbformat": 4,
 "nbformat_minor": 4
}
