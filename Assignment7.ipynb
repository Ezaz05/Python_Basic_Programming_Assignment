{
 "cells": [
  {
   "cell_type": "markdown",
   "metadata": {},
   "source": [
    "### 1. Write a Python Program to find sum of array?"
   ]
  },
  {
   "cell_type": "code",
   "execution_count": 1,
   "metadata": {},
   "outputs": [
    {
     "name": "stdout",
     "output_type": "stream",
     "text": [
      "Enter the size of an array:5\n",
      "Enter the elements:\n",
      "3\n",
      "5\n",
      "1\n",
      "6\n",
      "8\n",
      "Sum of the given array: 23\n"
     ]
    }
   ],
   "source": [
    "array= []\n",
    "n = int(input(\"Enter the size of an array:\"))\n",
    "print(\"Enter the elements:\")\n",
    "for i in range(n):\n",
    "    ele= int(input())\n",
    "    array.append(ele)\n",
    "print(\"Sum of the given array:\", sum(array))    \n",
    "    "
   ]
  },
  {
   "cell_type": "markdown",
   "metadata": {},
   "source": [
    "### 2. Write a Python Program to find largest element in an array?"
   ]
  },
  {
   "cell_type": "code",
   "execution_count": 2,
   "metadata": {},
   "outputs": [
    {
     "name": "stdout",
     "output_type": "stream",
     "text": [
      "Enter the size of an array:5\n",
      "Enter the elements:\n",
      "6\n",
      "7\n",
      "5\n",
      "2\n",
      "1\n",
      "Largest element of the given array: 7\n"
     ]
    }
   ],
   "source": [
    "array= []\n",
    "n = int(input(\"Enter the size of an array:\"))\n",
    "print(\"Enter the elements:\")\n",
    "for i in range(n):\n",
    "    ele= int(input())\n",
    "    array.append(ele)\n",
    "print(\"Largest element of the given array:\", max(array))    \n",
    "    "
   ]
  },
  {
   "cell_type": "markdown",
   "metadata": {},
   "source": [
    "### 3. Write a Python Program for array rotation?"
   ]
  },
  {
   "cell_type": "code",
   "execution_count": 3,
   "metadata": {},
   "outputs": [
    {
     "name": "stdout",
     "output_type": "stream",
     "text": [
      "Enter the size of an array:5\n",
      "Enter the elements:\n",
      "6\n",
      "7\n",
      "2\n",
      "1\n",
      "9\n",
      "[6, 7, 2, 1, 9]\n",
      "Enter the set size to rotate the array:3\n",
      "Rotated list is:\n",
      "[1, 9, 6, 7, 2]\n"
     ]
    }
   ],
   "source": [
    "array= []\n",
    "n = int(input(\"Enter the size of an array:\"))\n",
    "print(\"Enter the elements:\")\n",
    "for i in range(n):\n",
    "    ele= int(input())\n",
    "    array.append(ele)\n",
    "print(array)\n",
    "d = int(input(\"Enter the set size to rotate the array:\"))\n",
    "\n",
    "#slicing approach to rotate the array\n",
    "array[:]=array[d:n]+array[0:d]\n",
    "print(\"Rotated list is:\")\n",
    "print(array)"
   ]
  },
  {
   "cell_type": "markdown",
   "metadata": {},
   "source": [
    "### 4. Write a Python Program to Split the array and add the first part to the end?"
   ]
  },
  {
   "cell_type": "code",
   "execution_count": 4,
   "metadata": {},
   "outputs": [
    {
     "name": "stdout",
     "output_type": "stream",
     "text": [
      "Enter the size of an array:5\n",
      "Enter the elements:\n",
      "6\n",
      "7\n",
      "2\n",
      "1\n",
      "9\n",
      "[6, 7, 2, 1, 9]\n",
      "Enter the position to split the array:3\n",
      "Array after adding first part to the end\n",
      "[1, 9, 6, 7, 2]\n"
     ]
    }
   ],
   "source": [
    "array= []\n",
    "n = int(input(\"Enter the size of an array:\"))\n",
    "print(\"Enter the elements:\")\n",
    "for i in range(n):\n",
    "    ele= int(input())\n",
    "    array.append(ele)\n",
    "print(array)    \n",
    "\n",
    "k = int(input(\"Enter the position to split the array:\"))\n",
    "array = array[k:]+array[:k]\n",
    "print(\"Array after adding first part to the end\")\n",
    "print(array)"
   ]
  },
  {
   "cell_type": "markdown",
   "metadata": {},
   "source": [
    "### 5. Write a Python Program to check if given array is Monotonic?"
   ]
  },
  {
   "cell_type": "code",
   "execution_count": 5,
   "metadata": {},
   "outputs": [
    {
     "name": "stdout",
     "output_type": "stream",
     "text": [
      "Enter the size of an array:5\n",
      "Enter the elements:\n",
      "6\n",
      "4\n",
      "2\n",
      "1\n",
      "0\n",
      "[6, 4, 2, 1, 0]\n",
      "Array is Monotonic\n"
     ]
    }
   ],
   "source": [
    "# A monotonic array is an array where elements are either sorted in increasing order or in decreasing order.\n",
    "array= []\n",
    "n = int(input(\"Enter the size of an array:\"))\n",
    "print(\"Enter the elements:\")\n",
    "for i in range(n):\n",
    "    ele= int(input())\n",
    "    array.append(ele)\n",
    "print(array)    \n",
    "Asc = sorted(array)\n",
    "Dsc = sorted(array,reverse=True)\n",
    "if Asc==array or Dsc==array:\n",
    "    print(\"Array is Monotonic\")\n",
    "else:\n",
    "    print(\"Array is not Monotonic\")"
   ]
  }
 ],
 "metadata": {
  "kernelspec": {
   "display_name": "Python 3",
   "language": "python",
   "name": "python3"
  },
  "language_info": {
   "codemirror_mode": {
    "name": "ipython",
    "version": 3
   },
   "file_extension": ".py",
   "mimetype": "text/x-python",
   "name": "python",
   "nbconvert_exporter": "python",
   "pygments_lexer": "ipython3",
   "version": "3.8.3"
  }
 },
 "nbformat": 4,
 "nbformat_minor": 4
}
